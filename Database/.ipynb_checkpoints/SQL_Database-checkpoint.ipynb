{
 "cells": [
  {
   "cell_type": "code",
   "execution_count": 2,
   "metadata": {},
   "outputs": [],
   "source": [
    "import pandas as pd\n",
    "import sqlalchemy\n",
    "import sqlite3"
   ]
  },
  {
   "cell_type": "code",
   "execution_count": 3,
   "metadata": {},
   "outputs": [],
   "source": [
    "df = pd.read_csv ('dataset_clean.csv', encoding=\"ISO-8859-1\")\n",
    "c_df = pd.read_csv ('clustered_dataset.csv', encoding=\"ISO-8859-1\")"
   ]
  },
  {
   "cell_type": "code",
   "execution_count": 4,
   "metadata": {},
   "outputs": [
    {
     "name": "stdout",
     "output_type": "stream",
     "text": [
      "2021-05-31 20:24:07,298 INFO sqlalchemy.engine.base.Engine SELECT CAST('test plain returns' AS VARCHAR(60)) AS anon_1\n",
      "2021-05-31 20:24:07,301 INFO sqlalchemy.engine.base.Engine ()\n",
      "2021-05-31 20:24:07,301 INFO sqlalchemy.engine.base.Engine SELECT CAST('test unicode returns' AS VARCHAR(60)) AS anon_1\n",
      "2021-05-31 20:24:07,302 INFO sqlalchemy.engine.base.Engine ()\n"
     ]
    }
   ],
   "source": [
    "from sqlalchemy import create_engine\n",
    "engine = create_engine('sqlite:///save_pandas.db', echo=True)\n",
    "sqlite_connection = engine.connect()"
   ]
  },
  {
   "cell_type": "code",
   "execution_count": 5,
   "metadata": {},
   "outputs": [
    {
     "name": "stdout",
     "output_type": "stream",
     "text": [
      "2021-05-31 20:24:09,136 INFO sqlalchemy.engine.base.Engine PRAGMA main.table_info(\"Player_Dataset\")\n",
      "2021-05-31 20:24:09,137 INFO sqlalchemy.engine.base.Engine ()\n",
      "2021-05-31 20:24:09,138 INFO sqlalchemy.engine.base.Engine PRAGMA temp.table_info(\"Player_Dataset\")\n",
      "2021-05-31 20:24:09,138 INFO sqlalchemy.engine.base.Engine ()\n",
      "2021-05-31 20:24:09,142 INFO sqlalchemy.engine.base.Engine \n",
      "CREATE TABLE \"Player_Dataset\" (\n",
      "\t\"index\" BIGINT, \n",
      "\t\"Year\" BIGINT, \n",
      "\t\"Player\" TEXT, \n",
      "\t\"Age\" BIGINT, \n",
      "\t\"G\" BIGINT, \n",
      "\t\"MP\" BIGINT, \n",
      "\t\"PER\" FLOAT, \n",
      "\t\"TS%\" FLOAT, \n",
      "\t\"3PAr\" FLOAT, \n",
      "\t\"FTr\" FLOAT, \n",
      "\t\"ORB%\" FLOAT, \n",
      "\t\"DRB%\" FLOAT, \n",
      "\t\"TRB%\" FLOAT, \n",
      "\t\"AST%\" FLOAT, \n",
      "\t\"STL%\" FLOAT, \n",
      "\t\"BLK%\" FLOAT, \n",
      "\t\"TOV%\" FLOAT, \n",
      "\t\"USG%\" FLOAT, \n",
      "\t\"OWS\" FLOAT, \n",
      "\t\"DWS\" FLOAT, \n",
      "\t\"WS\" FLOAT, \n",
      "\t\"WS/48\" FLOAT, \n",
      "\t\"OBPM\" FLOAT, \n",
      "\t\"DBPM\" FLOAT, \n",
      "\t\"BPM\" FLOAT, \n",
      "\t\"VORP\" FLOAT, \n",
      "\t\"FG\" BIGINT, \n",
      "\t\"FGA\" BIGINT, \n",
      "\t\"3P\" BIGINT, \n",
      "\t\"3PA\" BIGINT, \n",
      "\t\"2P\" BIGINT, \n",
      "\t\"2PA\" BIGINT, \n",
      "\t\"eFG%\" FLOAT, \n",
      "\t\"FT\" BIGINT, \n",
      "\t\"FTA\" BIGINT, \n",
      "\t\"ORB\" BIGINT, \n",
      "\t\"DRB\" BIGINT, \n",
      "\t\"TRB\" BIGINT, \n",
      "\t\"AST\" BIGINT, \n",
      "\t\"STL\" BIGINT, \n",
      "\t\"BLK\" BIGINT, \n",
      "\t\"TOV\" BIGINT, \n",
      "\t\"PF\" BIGINT, \n",
      "\t\"PTS\" BIGINT, \n",
      "\tyear_start BIGINT, \n",
      "\tweight BIGINT, \n",
      "\tyear_born BIGINT, \n",
      "\t\"Status\" BIGINT, \n",
      "\t\"height(inch)\" FLOAT\n",
      ")\n",
      "\n",
      "\n",
      "2021-05-31 20:24:09,142 INFO sqlalchemy.engine.base.Engine ()\n",
      "2021-05-31 20:24:09,149 INFO sqlalchemy.engine.base.Engine COMMIT\n",
      "2021-05-31 20:24:09,150 INFO sqlalchemy.engine.base.Engine CREATE INDEX \"ix_Player_Dataset_index\" ON \"Player_Dataset\" (\"index\")\n",
      "2021-05-31 20:24:09,151 INFO sqlalchemy.engine.base.Engine ()\n",
      "2021-05-31 20:24:09,156 INFO sqlalchemy.engine.base.Engine COMMIT\n",
      "2021-05-31 20:24:09,166 INFO sqlalchemy.engine.base.Engine BEGIN (implicit)\n",
      "2021-05-31 20:24:09,389 INFO sqlalchemy.engine.base.Engine INSERT INTO \"Player_Dataset\" (\"index\", \"Year\", \"Player\", \"Age\", \"G\", \"MP\", \"PER\", \"TS%\", \"3PAr\", \"FTr\", \"ORB%\", \"DRB%\", \"TRB%\", \"AST%\", \"STL%\", \"BLK%\", \"TOV%\", \"USG%\", \"OWS\", \"DWS\", \"WS\", \"WS/48\", \"OBPM\", \"DBPM\", \"BPM\", \"VORP\", \"FG\", \"FGA\", \"3P\", \"3PA\", \"2P\", \"2PA\", \"eFG%\", \"FT\", \"FTA\", \"ORB\", \"DRB\", \"TRB\", \"AST\", \"STL\", \"BLK\", \"TOV\", \"PF\", \"PTS\", year_start, weight, year_born, \"Status\", \"height(inch)\") VALUES (?, ?, ?, ?, ?, ?, ?, ?, ?, ?, ?, ?, ?, ?, ?, ?, ?, ?, ?, ?, ?, ?, ?, ?, ?, ?, ?, ?, ?, ?, ?, ?, ?, ?, ?, ?, ?, ?, ?, ?, ?, ?, ?, ?, ?, ?, ?, ?, ?)\n",
      "2021-05-31 20:24:09,390 INFO sqlalchemy.engine.base.Engine ((0, 2003, 'Tariq Abdul-Wahad', 28, 14, 204, 12.4, 0.47, 0.017, 0.103, 7.6, 14.0, 10.8, 15.4, 1.5, 1.1, 10.3, 15.0, 0.2, 0.2, 0.4, 0.104, -1.2, 0.7, -0.5, 0.1, 27, 58, 0, 1, 27, 57, 0.466, 3, 6, 14, 26, 40, 21, 6, 3, 7, 26, 57, 1998, 223, 1974, 6, 78.0), (1, 2003, 'Shareef Abdur-Rahim', 26, 81, 3087, 19.9, 0.5660000000000001, 0.051, 0.457, 6.7, 17.8, 12.5, 14.7, 1.5, 0.9, 13.0, 24.2, 7.4, 2.3, 9.7, 0.151, 2.1, -0.4, 1.7, 2.8, 566, 1183, 21, 60, 545, 1123, 0.487, 455, 541, 175, 502, 677, 242, 87, 38, 212, 240, 1608, 1997, 225, 1976, 7, 81.0), (2, 2004, 'Shareef Abdur-Rahim', 27, 85, 2684, 19.9, 0.557, 0.032, 0.407, 8.2, 19.0, 13.6, 12.3, 1.4, 1.0, 12.9, 24.4, 6.1, 2.0, 8.1, 0.145, 1.3, -1.0, 0.3, 1.6, 501, 1054, 9, 34, 492, 1020, 0.48, 373, 429, 189, 450, 639, 174, 68, 37, 184, 222, 1384, 1997, 225, 1976, 8, 81.0), (3, 2005, 'Shareef Abdur-Rahim', 28, 54, 1867, 18.7, 0.581, 0.058, 0.379, 7.9, 16.0, 12.1, 10.7, 1.4, 1.0, 13.0, 22.1, 3.9, 1.5, 5.4, 0.139, 1.4, -0.5, 0.8, 1.3, 337, 670, 15, 39, 322, 631, 0.514, 220, 254, 123, 269, 392, 111, 49, 26, 117, 150, 909, 1997, 225, 1976, 9, 81.0), (4, 2006, 'Shareef Abdur-Rahim', 29, 72, 1961, 17.2, 0.588, 0.035, 0.44, 6.4, 14.8, 10.6, 13.2, 1.3, 1.6, 12.5, 20.1, 4.0, 2.2, 6.2, 0.152, 0.4, 0.4, 0.9, 1.4, 332, 632, 5, 22, 327, 610, 0.529, 218, 278, 106, 251, 357, 149, 48, 42, 108, 227, 887, 1997, 225, 1976, 10, 81.0), (5, 2007, 'Shareef Abdur-Rahim', 30, 80, 2015, 13.1, 0.524, 0.031, 0.358, 7.0, 16.4, 11.6, 9.2, 1.3, 1.5, 13.3, 19.5, 1.1, 1.7, 2.8, 0.067, -2.1, 0.0, -2.1, -0.1, 310, 654, 3, 20, 307, 634, 0.476, 170, 234, 122, 276, 398, 109, 53, 40, 116, 243, 793, 1997, 225, 1976, 11, 81.0), (6, 2003, 'Courtney Alexander', 25, 66, 1360, 9.3, 0.459, 0.113, 0.289, 3.3, 6.8, 5.0, 9.8, 1.2, 0.3, 10.7, 21.3, 0.1, 1.0, 1.1, 0.04, -3.2, -2.3, -5.5, -1.2, 193, 505, 19, 57, 174, 448, 0.401, 118, 146, 39, 79, 118, 79, 31, 6, 68, 125, 523, 2001, 205, 1977, 3, 77.0), (7, 2003, 'Malik Allen', 24, 80, 2318, 9.9, 0.455, 0.005, 0.153, 6.5, 14.9, 10.6, 4.4, 0.9, 2.6, 13.2, 19.7, -1.7, 2.6, 0.9, 0.018000000000000002, -4.6, 0.6, -3.9, -1.1, 335, 790, 0, 4, 335, 786, 0.424, 97, 121, 134, 291, 425, 54, 37, 78, 128, 234, 767, 2002, 255, 1978, 2, 82.0)  ... displaying 10 of 6273 total bound parameter sets ...  (6271, 2017, 'Paul Zipser', 22, 44, 843, 6.9, 0.503, 0.448, 0.181, 1.9, 14.2, 8.0, 6.1, 0.9, 1.5, 14.4, 14.4, -0.3, 0.8, 0.5, 0.03, -3.6, -0.1, -3.7, -0.4, 88, 221, 33, 99, 55, 122, 0.473, 31, 40, 15, 110, 125, 36, 15, 16, 40, 78, 240, 2017, 215, 1994, 1, 80.0), (6272, 2017, 'Ivica Zubac', 19, 38, 609, 17.0, 0.547, 0.013, 0.206, 7.1, 21.9, 14.3, 8.1, 1.1, 4.4, 10.4, 20.3, 0.6, 0.5, 1.1, 0.086, -2.7, 0.3, -2.5, -0.1, 126, 238, 0, 3, 126, 235, 0.529, 32, 49, 41, 118, 159, 30, 14, 33, 30, 66, 284, 2017, 265, 1997, 1, 85.0))\n",
      "2021-05-31 20:24:09,438 INFO sqlalchemy.engine.base.Engine COMMIT\n",
      "2021-05-31 20:24:09,454 INFO sqlalchemy.engine.base.Engine SELECT name FROM sqlite_master WHERE type='table' ORDER BY name\n",
      "2021-05-31 20:24:09,455 INFO sqlalchemy.engine.base.Engine ()\n",
      "2021-05-31 20:24:09,462 INFO sqlalchemy.engine.base.Engine PRAGMA main.table_info(\"Clustered_Dataset\")\n",
      "2021-05-31 20:24:09,462 INFO sqlalchemy.engine.base.Engine ()\n",
      "2021-05-31 20:24:09,463 INFO sqlalchemy.engine.base.Engine PRAGMA temp.table_info(\"Clustered_Dataset\")\n",
      "2021-05-31 20:24:09,463 INFO sqlalchemy.engine.base.Engine ()\n",
      "2021-05-31 20:24:09,466 INFO sqlalchemy.engine.base.Engine \n",
      "CREATE TABLE \"Clustered_Dataset\" (\n",
      "\t\"index\" BIGINT, \n",
      "\t\"Year\" BIGINT, \n",
      "\t\"Player\" TEXT, \n",
      "\t\"Age\" BIGINT, \n",
      "\t\"G\" BIGINT, \n",
      "\t\"MP\" BIGINT, \n",
      "\t\"PER\" FLOAT, \n",
      "\t\"TS%\" FLOAT, \n",
      "\t\"3PAr\" FLOAT, \n",
      "\t\"FTr\" FLOAT, \n",
      "\t\"ORB%\" FLOAT, \n",
      "\t\"DRB%\" FLOAT, \n",
      "\t\"TRB%\" FLOAT, \n",
      "\t\"AST%\" FLOAT, \n",
      "\t\"STL%\" FLOAT, \n",
      "\t\"BLK%\" FLOAT, \n",
      "\t\"TOV%\" FLOAT, \n",
      "\t\"USG%\" FLOAT, \n",
      "\t\"OWS\" FLOAT, \n",
      "\t\"DWS\" FLOAT, \n",
      "\t\"WS\" FLOAT, \n",
      "\t\"WS/48\" FLOAT, \n",
      "\t\"OBPM\" FLOAT, \n",
      "\t\"DBPM\" FLOAT, \n",
      "\t\"BPM\" FLOAT, \n",
      "\t\"VORP\" FLOAT, \n",
      "\t\"FG\" BIGINT, \n",
      "\t\"FGA\" BIGINT, \n",
      "\t\"3P\" BIGINT, \n",
      "\t\"3PA\" BIGINT, \n",
      "\t\"2P\" BIGINT, \n",
      "\t\"2PA\" BIGINT, \n",
      "\t\"eFG%\" FLOAT, \n",
      "\t\"FT\" BIGINT, \n",
      "\t\"FTA\" BIGINT, \n",
      "\t\"ORB\" BIGINT, \n",
      "\t\"DRB\" BIGINT, \n",
      "\t\"TRB\" BIGINT, \n",
      "\t\"AST\" BIGINT, \n",
      "\t\"STL\" BIGINT, \n",
      "\t\"BLK\" BIGINT, \n",
      "\t\"TOV\" BIGINT, \n",
      "\t\"PF\" BIGINT, \n",
      "\t\"PTS\" BIGINT, \n",
      "\tyear_start BIGINT, \n",
      "\tweight BIGINT, \n",
      "\tyear_born BIGINT, \n",
      "\t\"Status\" BIGINT, \n",
      "\t\"height(inch)\" FLOAT\n",
      ")\n",
      "\n",
      "\n",
      "2021-05-31 20:24:09,467 INFO sqlalchemy.engine.base.Engine ()\n",
      "2021-05-31 20:24:09,473 INFO sqlalchemy.engine.base.Engine COMMIT\n",
      "2021-05-31 20:24:09,474 INFO sqlalchemy.engine.base.Engine CREATE INDEX \"ix_Clustered_Dataset_index\" ON \"Clustered_Dataset\" (\"index\")\n",
      "2021-05-31 20:24:09,474 INFO sqlalchemy.engine.base.Engine ()\n",
      "2021-05-31 20:24:09,480 INFO sqlalchemy.engine.base.Engine COMMIT\n",
      "2021-05-31 20:24:09,489 INFO sqlalchemy.engine.base.Engine BEGIN (implicit)\n",
      "2021-05-31 20:24:09,720 INFO sqlalchemy.engine.base.Engine INSERT INTO \"Clustered_Dataset\" (\"index\", \"Year\", \"Player\", \"Age\", \"G\", \"MP\", \"PER\", \"TS%\", \"3PAr\", \"FTr\", \"ORB%\", \"DRB%\", \"TRB%\", \"AST%\", \"STL%\", \"BLK%\", \"TOV%\", \"USG%\", \"OWS\", \"DWS\", \"WS\", \"WS/48\", \"OBPM\", \"DBPM\", \"BPM\", \"VORP\", \"FG\", \"FGA\", \"3P\", \"3PA\", \"2P\", \"2PA\", \"eFG%\", \"FT\", \"FTA\", \"ORB\", \"DRB\", \"TRB\", \"AST\", \"STL\", \"BLK\", \"TOV\", \"PF\", \"PTS\", year_start, weight, year_born, \"Status\", \"height(inch)\") VALUES (?, ?, ?, ?, ?, ?, ?, ?, ?, ?, ?, ?, ?, ?, ?, ?, ?, ?, ?, ?, ?, ?, ?, ?, ?, ?, ?, ?, ?, ?, ?, ?, ?, ?, ?, ?, ?, ?, ?, ?, ?, ?, ?, ?, ?, ?, ?, ?, ?)\n",
      "2021-05-31 20:24:09,721 INFO sqlalchemy.engine.base.Engine ((0, 2003, 'Tariq Abdul-Wahad', 28, 14, 204, 12.4, 0.47, 0.017, 0.103, 7.6, 14.0, 10.8, 15.4, 1.5, 1.1, 10.3, 15.0, 0.2, 0.2, 0.4, 0.104, -1.2, 0.7, -0.5, 0.1, 27, 58, 0, 1, 27, 57, 0.466, 3, 6, 14, 26, 40, 21, 6, 3, 7, 26, 57, 1998, 223, 1974, 6, 78.0), (1, 2003, 'Shareef Abdur-Rahim', 26, 81, 3087, 19.9, 0.5660000000000001, 0.051, 0.457, 6.7, 17.8, 12.5, 14.7, 1.5, 0.9, 13.0, 24.2, 7.4, 2.3, 9.7, 0.151, 2.1, -0.4, 1.7, 2.8, 566, 1183, 21, 60, 545, 1123, 0.487, 455, 541, 175, 502, 677, 242, 87, 38, 212, 240, 1608, 1997, 225, 1976, 7, 81.0), (2, 2004, 'Shareef Abdur-Rahim', 27, 85, 2684, 19.9, 0.557, 0.032, 0.407, 8.2, 19.0, 13.6, 12.3, 1.4, 1.0, 12.9, 24.4, 6.1, 2.0, 8.1, 0.145, 1.3, -1.0, 0.3, 1.6, 501, 1054, 9, 34, 492, 1020, 0.48, 373, 429, 189, 450, 639, 174, 68, 37, 184, 222, 1384, 1997, 225, 1976, 8, 81.0), (3, 2005, 'Shareef Abdur-Rahim', 28, 54, 1867, 18.7, 0.581, 0.058, 0.379, 7.9, 16.0, 12.1, 10.7, 1.4, 1.0, 13.0, 22.1, 3.9, 1.5, 5.4, 0.139, 1.4, -0.5, 0.8, 1.3, 337, 670, 15, 39, 322, 631, 0.514, 220, 254, 123, 269, 392, 111, 49, 26, 117, 150, 909, 1997, 225, 1976, 9, 81.0), (4, 2006, 'Shareef Abdur-Rahim', 29, 72, 1961, 17.2, 0.588, 0.035, 0.44, 6.4, 14.8, 10.6, 13.2, 1.3, 1.6, 12.5, 20.1, 4.0, 2.2, 6.2, 0.152, 0.4, 0.4, 0.9, 1.4, 332, 632, 5, 22, 327, 610, 0.529, 218, 278, 106, 251, 357, 149, 48, 42, 108, 227, 887, 1997, 225, 1976, 10, 81.0), (5, 2007, 'Shareef Abdur-Rahim', 30, 80, 2015, 13.1, 0.524, 0.031, 0.358, 7.0, 16.4, 11.6, 9.2, 1.3, 1.5, 13.3, 19.5, 1.1, 1.7, 2.8, 0.067, -2.1, 0.0, -2.1, -0.1, 310, 654, 3, 20, 307, 634, 0.476, 170, 234, 122, 276, 398, 109, 53, 40, 116, 243, 793, 1997, 225, 1976, 11, 81.0), (6, 2003, 'Courtney Alexander', 25, 66, 1360, 9.3, 0.459, 0.113, 0.289, 3.3, 6.8, 5.0, 9.8, 1.2, 0.3, 10.7, 21.3, 0.1, 1.0, 1.1, 0.04, -3.2, -2.3, -5.5, -1.2, 193, 505, 19, 57, 174, 448, 0.401, 118, 146, 39, 79, 118, 79, 31, 6, 68, 125, 523, 2001, 205, 1977, 3, 77.0), (7, 2003, 'Malik Allen', 24, 80, 2318, 9.9, 0.455, 0.005, 0.153, 6.5, 14.9, 10.6, 4.4, 0.9, 2.6, 13.2, 19.7, -1.7, 2.6, 0.9, 0.018000000000000002, -4.6, 0.6, -3.9, -1.1, 335, 790, 0, 4, 335, 786, 0.424, 97, 121, 134, 291, 425, 54, 37, 78, 128, 234, 767, 2002, 255, 1978, 2, 82.0)  ... displaying 10 of 6273 total bound parameter sets ...  (6271, 2017, 'Paul Zipser', 22, 44, 843, 6.9, 0.503, 0.448, 0.181, 1.9, 14.2, 8.0, 6.1, 0.9, 1.5, 14.4, 14.4, -0.3, 0.8, 0.5, 0.03, -3.6, -0.1, -3.7, -0.4, 88, 221, 33, 99, 55, 122, 0.473, 31, 40, 15, 110, 125, 36, 15, 16, 40, 78, 240, 2017, 215, 1994, 1, 80.0), (6272, 2017, 'Ivica Zubac', 19, 38, 609, 17.0, 0.547, 0.013, 0.206, 7.1, 21.9, 14.3, 8.1, 1.1, 4.4, 10.4, 20.3, 0.6, 0.5, 1.1, 0.086, -2.7, 0.3, -2.5, -0.1, 126, 238, 0, 3, 126, 235, 0.529, 32, 49, 41, 118, 159, 30, 14, 33, 30, 66, 284, 2017, 265, 1997, 1, 85.0))\n"
     ]
    },
    {
     "name": "stdout",
     "output_type": "stream",
     "text": [
      "2021-05-31 20:24:09,772 INFO sqlalchemy.engine.base.Engine COMMIT\n",
      "2021-05-31 20:24:09,791 INFO sqlalchemy.engine.base.Engine SELECT name FROM sqlite_master WHERE type='table' ORDER BY name\n",
      "2021-05-31 20:24:09,792 INFO sqlalchemy.engine.base.Engine ()\n"
     ]
    }
   ],
   "source": [
    "sqlite_table = \"Player_Dataset\"\n",
    "df.to_sql(sqlite_table, sqlite_connection, if_exists='fail')\n",
    "\n",
    "sqlite_table2 = \"Clustered_Dataset\"\n",
    "df.to_sql(sqlite_table2, sqlite_connection, if_exists='fail')"
   ]
  },
  {
   "cell_type": "code",
   "execution_count": 6,
   "metadata": {},
   "outputs": [],
   "source": [
    "sqlite_connection.close()"
   ]
  },
  {
   "cell_type": "code",
   "execution_count": 9,
   "metadata": {},
   "outputs": [],
   "source": [
    "import sqlite3\n",
    "\n",
    "con = sqlite3.connect(\"save_pandas.db\")\n",
    "\n",
    "cur = con.cursor()\n",
    "\n",
    "for row in cur.execute('SELECT * FROM \"Clean Dataset\";'):\n",
    "    print(row)"
   ]
  }
 ],
 "metadata": {
  "kernelspec": {
   "display_name": "PythonData",
   "language": "python",
   "name": "pythondata"
  },
  "language_info": {
   "codemirror_mode": {
    "name": "ipython",
    "version": 3
   },
   "file_extension": ".py",
   "mimetype": "text/x-python",
   "name": "python",
   "nbconvert_exporter": "python",
   "pygments_lexer": "ipython3",
   "version": "3.7.9"
  }
 },
 "nbformat": 4,
 "nbformat_minor": 4
}
